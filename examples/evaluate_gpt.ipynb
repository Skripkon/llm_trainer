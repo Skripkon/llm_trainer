{
 "cells": [
  {
   "cell_type": "code",
   "execution_count": null,
   "id": "4eb5e3c9",
   "metadata": {},
   "outputs": [],
   "source": [
    "from transformers import AutoTokenizer, AutoModelForCausalLM\n",
    "model = AutoModelForCausalLM.from_pretrained(\"gpt2\")\n",
    "tokenizer = AutoTokenizer.from_pretrained(\"gpt2\")\n",
    "print(f\"Parameters: {model.num_parameters() / 10 ** 6:.2f}M\")"
   ]
  },
  {
   "cell_type": "code",
   "execution_count": null,
   "id": "374a3fc0",
   "metadata": {},
   "outputs": [],
   "source": [
    "from llm_trainer import Evaluator\n",
    "evaluator = Evaluator()"
   ]
  },
  {
   "cell_type": "markdown",
   "id": "cfc77919",
   "metadata": {},
   "source": [
    "# HellaSwag"
   ]
  },
  {
   "cell_type": "code",
   "execution_count": null,
   "id": "377e5ab0",
   "metadata": {},
   "outputs": [],
   "source": [
    "evaluator.eval_hellaswag(model,               # Evaluate GPT-2 SMALL (124M)\n",
    "                         tokenizer,           # Use the same tokenizer as was used to train GPT-2\n",
    "                         return_logits=False, # GPT-2 model from transformers returns an object with an attribute .logits\n",
    "                         verbose=1000         # Print accuracy after each 1000 samples\n",
    "                         )"
   ]
  },
  {
   "cell_type": "markdown",
   "id": "85d6b895",
   "metadata": {},
   "source": [
    "### HellaSwag accuracy is 29.56% "
   ]
  },
  {
   "cell_type": "markdown",
   "id": "53088196",
   "metadata": {},
   "source": [
    "# LAMBADA"
   ]
  },
  {
   "cell_type": "code",
   "execution_count": null,
   "id": "2f31b5c7",
   "metadata": {},
   "outputs": [],
   "source": [
    "evaluator.eval_lambada(model,               # Evaluate GPT-2 SMALL (124M)\n",
    "                       tokenizer,           # Use the same tokenizer as was used to train GPT-2\n",
    "                       return_logits=False, # GPT-2 model from transformers returns an object with an attribute .logits\n",
    "                       verbose=200,         # Print accuracy after each 200 samples\n",
    "                       max_length=1024,     # GPT-2 context window\n",
    "                       stride=512           # Higher value = better approximation (lower ppl)\n",
    "                       )"
   ]
  },
  {
   "cell_type": "markdown",
   "id": "9fb38856",
   "metadata": {},
   "source": [
    "### LAMBADA perplexity is ~40"
   ]
  }
 ],
 "metadata": {
  "kernelspec": {
   "display_name": ".venv",
   "language": "python",
   "name": "python3"
  },
  "language_info": {
   "codemirror_mode": {
    "name": "ipython",
    "version": 3
   },
   "file_extension": ".py",
   "mimetype": "text/x-python",
   "name": "python",
   "nbconvert_exporter": "python",
   "pygments_lexer": "ipython3",
   "version": "3.12.3"
  }
 },
 "nbformat": 4,
 "nbformat_minor": 5
}
