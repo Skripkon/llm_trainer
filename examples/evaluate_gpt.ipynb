{
 "cells": [
  {
   "cell_type": "code",
   "execution_count": 1,
   "id": "f9abf4df",
   "metadata": {},
   "outputs": [
    {
     "name": "stdout",
     "output_type": "stream",
     "text": [
      "Parameters: 124.44M\n"
     ]
    }
   ],
   "source": [
    "from transformers import AutoTokenizer, AutoModelForCausalLM\n",
    "model = AutoModelForCausalLM.from_pretrained(\"gpt2\")\n",
    "tokenizer = AutoTokenizer.from_pretrained(\"gpt2\")\n",
    "\n",
    "print(f\"Parameters: {model.num_parameters() / 10 ** 6:.2f}M\")"
   ]
  },
  {
   "cell_type": "code",
   "execution_count": 2,
   "id": "374a3fc0",
   "metadata": {},
   "outputs": [],
   "source": [
    "from llm_trainer import Evaluator\n",
    "evaluator = Evaluator()"
   ]
  },
  {
   "cell_type": "markdown",
   "id": "f2d8b10c",
   "metadata": {},
   "source": [
    "You can evaluate your model on a particular benchmark.\n",
    "\n",
    "For example, call `evaluator.eval_lambada()`\n",
    "\n",
    "But if you want to evaluate it on different benchmarks you might call a single method `evaluator.eval_all()`"
   ]
  },
  {
   "cell_type": "code",
   "execution_count": 3,
   "id": "b39db50a",
   "metadata": {},
   "outputs": [
    {
     "name": "stdout",
     "output_type": "stream",
     "text": [
      "\n",
      "Evaluating on HellaSwag...\n",
      "\n",
      "Evaluating on LAMBADA...\n",
      "\n",
      "Evaluating on WikiText-103...\n",
      "\n",
      "Evaluating on WikiText-2...\n",
      "\n",
      "Evaluating on PTB...\n",
      "\n",
      "Evaluation Summary:\n",
      "╒══════════════╤════════════╤═════════╕\n",
      "│ Benchmark    │ Metric     │   Value │\n",
      "╞══════════════╪════════════╪═════════╡\n",
      "│ HellaSwag    │ Accuracy   │    0.3  │\n",
      "├──────────────┼────────────┼─────────┤\n",
      "│ LAMBADA      │ Perplexity │   40.76 │\n",
      "├──────────────┼────────────┼─────────┤\n",
      "│ WikiText-103 │ Perplexity │   25.17 │\n",
      "├──────────────┼────────────┼─────────┤\n",
      "│ WikiText-2   │ Perplexity │   25.17 │\n",
      "├──────────────┼────────────┼─────────┤\n",
      "│ PTB          │ Perplexity │   30.57 │\n",
      "╘══════════════╧════════════╧═════════╛\n"
     ]
    }
   ],
   "source": [
    "evaluator.eval_all(model, tokenizer)"
   ]
  },
  {
   "cell_type": "code",
   "execution_count": null,
   "id": "866d973c",
   "metadata": {},
   "outputs": [],
   "source": []
  }
 ],
 "metadata": {
  "kernelspec": {
   "display_name": ".venv",
   "language": "python",
   "name": "python3"
  },
  "language_info": {
   "codemirror_mode": {
    "name": "ipython",
    "version": 3
   },
   "file_extension": ".py",
   "mimetype": "text/x-python",
   "name": "python",
   "nbconvert_exporter": "python",
   "pygments_lexer": "ipython3",
   "version": "3.12.3"
  }
 },
 "nbformat": 4,
 "nbformat_minor": 5
}
