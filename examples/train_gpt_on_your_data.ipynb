{
 "cells": [
  {
   "cell_type": "markdown",
   "metadata": {},
   "source": [
    "# Download some text files"
   ]
  },
  {
   "cell_type": "code",
   "execution_count": 3,
   "metadata": {},
   "outputs": [
    {
     "name": "stdout",
     "output_type": "stream",
     "text": [
      "Data downloaded to /home/nick/.cache/kagglehub/datasets/paultimothymooney/poetry/versions/16\n"
     ]
    }
   ],
   "source": [
    "import os\n",
    "import json\n",
    "import kagglehub  # pip install kagglehub\n",
    "\n",
    "# Download files with song lyrics from Kaggle.\n",
    "# Save them to `lyrics_path`\n",
    "lyrics_path = kagglehub.dataset_download(\"paultimothymooney/poetry\")\n",
    "print(f\"Data downloaded to {lyrics_path}\")"
   ]
  },
  {
   "cell_type": "code",
   "execution_count": 4,
   "metadata": {},
   "outputs": [
    {
     "name": "stdout",
     "output_type": "stream",
     "text": [
      "49 .txt files downloaded.\n"
     ]
    }
   ],
   "source": [
    "lyrics_files = os.listdir(lyrics_path)\n",
    "print(f\"{len(lyrics_files)} .txt files downloaded.\")"
   ]
  },
  {
   "cell_type": "code",
   "execution_count": 5,
   "metadata": {},
   "outputs": [
    {
     "data": {
      "text/plain": [
       "['r-kelly.txt', 'amy-winehouse.txt', 'adele.txt']"
      ]
     },
     "execution_count": 5,
     "metadata": {},
     "output_type": "execute_result"
    }
   ],
   "source": [
    "lyrics_files[0:3]"
   ]
  },
  {
   "cell_type": "markdown",
   "metadata": {},
   "source": [
    "# Convert text files to JSON format"
   ]
  },
  {
   "cell_type": "code",
   "execution_count": 6,
   "metadata": {},
   "outputs": [],
   "source": [
    "# Create a directory `json_files`\n",
    "os.makedirs(\"json_files\", exist_ok=True)"
   ]
  },
  {
   "cell_type": "code",
   "execution_count": 7,
   "metadata": {},
   "outputs": [],
   "source": [
    "for lyrics_file in lyrics_files:\n",
    "\n",
    "    with open(file=os.path.join(lyrics_path, lyrics_file), mode=\"r\") as f:\n",
    "        text = f.read()\n",
    "\n",
    "    temp_dict = [{\"text\": text}]\n",
    "    json_path = os.path.join(\"json_files\", lyrics_file)\n",
    "\n",
    "    json_path = json_path[:-4] + \".json\" # remove .txt and add .json\n",
    "    with open(json_path, 'w') as fp:\n",
    "        json.dump(temp_dict, fp)"
   ]
  },
  {
   "cell_type": "markdown",
   "metadata": {},
   "source": [
    "# Create Dataset from JSON files"
   ]
  },
  {
   "cell_type": "code",
   "execution_count": 8,
   "metadata": {},
   "outputs": [
    {
     "name": "stderr",
     "output_type": "stream",
     "text": [
      "Processing Chunks:   1%|          | 18/1500 [00:00<01:14, 20.01chunk/s]\n"
     ]
    }
   ],
   "source": [
    "from llm_trainer import create_dataset_from_json\n",
    "\n",
    "create_dataset_from_json(save_dir=\"data\",\n",
    "                         json_dir=\"json_files\",\n",
    "                         chunk_size=int(1e5),\n",
    "                         chunk_limit=1500)"
   ]
  },
  {
   "cell_type": "markdown",
   "metadata": {},
   "source": [
    "# Train GPT2 model on this data"
   ]
  },
  {
   "cell_type": "code",
   "execution_count": 9,
   "metadata": {},
   "outputs": [
    {
     "name": "stdout",
     "output_type": "stream",
     "text": [
      "Total Parameters: 63.69M\n"
     ]
    }
   ],
   "source": [
    "from transformers import GPT2Config, GPT2LMHeadModel\n",
    "\n",
    "model = GPT2LMHeadModel(config=GPT2Config(n_positions=256, n_embd=512, n_head=8))\n",
    "\n",
    "# Print the size of the model (a number of parameters it has) in millions.\n",
    "num_params = sum(p.numel() for p in model.parameters() if p.requires_grad)\n",
    "print(f\"Total Parameters: {num_params / 1e6:.2f}M\")"
   ]
  },
  {
   "cell_type": "code",
   "execution_count": 10,
   "metadata": {},
   "outputs": [
    {
     "name": "stderr",
     "output_type": "stream",
     "text": [
      "W0312 20:20:42.072000 2184 site-packages/torch/_inductor/utils.py:1137] [0/0] Not enough SMs to use max_autotune_gemm mode\n"
     ]
    },
    {
     "name": "stdout",
     "output_type": "stream",
     "text": [
      "step: 0 | Loss: 10.687500 | norm: 14.4388 | lr: 2.000000e-05 | dt: 37.14s | tok/sec: 3528.78\n",
      "step: 1 | Loss: 10.062500 | norm: 7.3094 | lr: 2.666667e-05 | dt: 3.42s | tok/sec: 38283.97\n",
      "step: 2 | Loss: 10.000000 | norm: 4.1528 | lr: 3.333333e-05 | dt: 3.41s | tok/sec: 38385.10\n",
      "step: 3 | Loss: 10.000000 | norm: 2.9891 | lr: 4.000000e-05 | dt: 3.42s | tok/sec: 38376.03\n",
      "step: 4 | Loss: 9.937500 | norm: 5.0828 | lr: 4.666667e-05 | dt: 3.45s | tok/sec: 37990.83\n",
      "step: 5 | Loss: 9.875000 | norm: 2.7775 | lr: 5.333333e-05 | dt: 3.48s | tok/sec: 37713.29\n",
      "step: 6 | Loss: 9.937500 | norm: 3.0434 | lr: 6.000000e-05 | dt: 3.50s | tok/sec: 37439.81\n",
      "step: 7 | Loss: 9.875000 | norm: 2.4737 | lr: 6.666667e-05 | dt: 3.42s | tok/sec: 38307.88\n",
      "step: 8 | Loss: 9.937500 | norm: 2.3718 | lr: 7.333333e-05 | dt: 3.41s | tok/sec: 38465.96\n",
      "step: 9 | Loss: 9.812500 | norm: 2.3731 | lr: 8.000000e-05 | dt: 3.41s | tok/sec: 38478.96\n",
      "step: 10 | Loss: 9.812500 | norm: 2.3739 | lr: 8.666667e-05 | dt: 3.50s | tok/sec: 37475.24\n",
      "step: 11 | Loss: 9.437500 | norm: 2.9608 | lr: 9.333333e-05 | dt: 3.47s | tok/sec: 37820.73\n",
      "step: 12 | Loss: 9.812500 | norm: 2.2483 | lr: 1.000000e-04 | dt: 3.41s | tok/sec: 38471.34\n",
      "step: 13 | Loss: 9.750000 | norm: 2.2178 | lr: 1.066667e-04 | dt: 3.46s | tok/sec: 37838.66\n",
      "step: 14 | Loss: 9.312500 | norm: 2.6241 | lr: 1.133333e-04 | dt: 3.47s | tok/sec: 37775.91\n",
      "step: 15 | Loss: 9.187500 | norm: 2.3554 | lr: 1.200000e-04 | dt: 3.39s | tok/sec: 38627.01\n",
      "step: 16 | Loss: 9.312500 | norm: 2.1254 | lr: 1.266667e-04 | dt: 3.44s | tok/sec: 38069.92\n",
      "step: 17 | Loss: 9.250000 | norm: 1.9964 | lr: 1.333333e-04 | dt: 3.48s | tok/sec: 37718.41\n",
      "step: 18 | Loss: 9.187500 | norm: 2.4302 | lr: 1.400000e-04 | dt: 3.45s | tok/sec: 37997.73\n",
      "step: 19 | Loss: 9.000000 | norm: 2.3434 | lr: 1.466667e-04 | dt: 3.34s | tok/sec: 39225.57\n",
      "step: 20 | Loss: 8.937500 | norm: 3.1609 | lr: 1.533333e-04 | dt: 3.48s | tok/sec: 37652.60\n",
      "step: 21 | Loss: 8.812500 | norm: 2.3370 | lr: 1.600000e-04 | dt: 3.50s | tok/sec: 37415.62\n",
      "step: 22 | Loss: 9.062500 | norm: 1.9900 | lr: 1.666667e-04 | dt: 3.45s | tok/sec: 38004.24\n",
      "step: 23 | Loss: 8.750000 | norm: 2.0210 | lr: 1.733333e-04 | dt: 3.44s | tok/sec: 38090.70\n",
      "step: 24 | Loss: 8.500000 | norm: 2.2849 | lr: 1.800000e-04 | dt: 3.37s | tok/sec: 38910.24\n",
      "step: 25 | Loss: 8.625000 | norm: 1.9854 | lr: 1.866667e-04 | dt: 3.37s | tok/sec: 38861.80\n",
      "step: 26 | Loss: 8.312500 | norm: 1.8063 | lr: 1.933333e-04 | dt: 3.45s | tok/sec: 37999.94\n",
      "step: 27 | Loss: 8.125000 | norm: 2.0172 | lr: 2.000000e-04 | dt: 3.35s | tok/sec: 39148.19\n",
      "step: 28 | Loss: 8.312500 | norm: 2.8396 | lr: 2.066667e-04 | dt: 3.40s | tok/sec: 38559.15\n",
      "step: 29 | Loss: 7.968750 | norm: 2.1732 | lr: 2.133333e-04 | dt: 3.32s | tok/sec: 39440.22\n",
      "step: 30 | Loss: 7.937500 | norm: 2.0885 | lr: 2.200000e-04 | dt: 3.34s | tok/sec: 39224.53\n",
      "step: 31 | Loss: 7.843750 | norm: 1.9456 | lr: 2.266667e-04 | dt: 3.34s | tok/sec: 39274.40\n",
      "step: 32 | Loss: 7.875000 | norm: 1.6478 | lr: 2.333333e-04 | dt: 3.32s | tok/sec: 39484.42\n",
      "step: 33 | Loss: 7.687500 | norm: 1.2830 | lr: 2.400000e-04 | dt: 3.45s | tok/sec: 37985.43\n",
      "step: 34 | Loss: 7.593750 | norm: 1.4492 | lr: 2.466667e-04 | dt: 3.46s | tok/sec: 37853.41\n",
      "step: 35 | Loss: 7.406250 | norm: 1.5090 | lr: 2.533333e-04 | dt: 3.45s | tok/sec: 38020.61\n",
      "step: 36 | Loss: 7.093750 | norm: 1.6658 | lr: 2.600000e-04 | dt: 3.52s | tok/sec: 37216.64\n",
      "step: 37 | Loss: 7.031250 | norm: 1.6403 | lr: 2.666667e-04 | dt: 3.47s | tok/sec: 37724.28\n",
      "step: 38 | Loss: 6.968750 | norm: 1.6618 | lr: 2.733333e-04 | dt: 3.48s | tok/sec: 37626.79\n",
      "step: 39 | Loss: 6.906250 | norm: 1.5316 | lr: 2.800000e-04 | dt: 3.44s | tok/sec: 38081.50\n",
      "step: 40 | Loss: 6.937500 | norm: 1.2844 | lr: 2.866667e-04 | dt: 3.47s | tok/sec: 37733.46\n",
      "step: 41 | Loss: 7.031250 | norm: 2.8217 | lr: 2.933333e-04 | dt: 3.40s | tok/sec: 38604.14\n",
      "step: 42 | Loss: 6.968750 | norm: 1.1174 | lr: 3.000000e-04 | dt: 3.32s | tok/sec: 39502.68\n",
      "step: 43 | Loss: 6.843750 | norm: 2.1425 | lr: 3.066667e-04 | dt: 3.44s | tok/sec: 38131.07\n",
      "step: 44 | Loss: 6.562500 | norm: 1.1059 | lr: 3.133333e-04 | dt: 3.45s | tok/sec: 37985.32\n",
      "step: 45 | Loss: 6.406250 | norm: 1.1620 | lr: 3.200000e-04 | dt: 3.45s | tok/sec: 38001.76\n",
      "step: 46 | Loss: 6.593750 | norm: 0.8151 | lr: 3.266667e-04 | dt: 3.45s | tok/sec: 37975.17\n",
      "step: 47 | Loss: 6.656250 | norm: 1.2628 | lr: 3.333333e-04 | dt: 3.45s | tok/sec: 38019.29\n",
      "step: 48 | Loss: 6.531250 | norm: 1.3544 | lr: 3.400000e-04 | dt: 3.45s | tok/sec: 38046.36\n",
      "step: 49 | Loss: 6.250000 | norm: 1.0708 | lr: 3.466667e-04 | dt: 3.45s | tok/sec: 38036.32\n",
      "step: 50 | Loss: 6.468750 | norm: 0.7223 | lr: 3.533333e-04 | dt: 3.36s | tok/sec: 39002.16\n",
      "step: 51 | Loss: 6.437500 | norm: 2.5570 | lr: 3.600000e-04 | dt: 3.45s | tok/sec: 37980.21\n",
      "step: 52 | Loss: 6.562500 | norm: 1.4869 | lr: 3.666667e-04 | dt: 3.37s | tok/sec: 38855.46\n",
      "step: 53 | Loss: 6.718750 | norm: 1.4635 | lr: 3.733333e-04 | dt: 3.32s | tok/sec: 39504.32\n",
      "step: 54 | Loss: 6.500000 | norm: 4.8554 | lr: 3.800000e-04 | dt: 3.45s | tok/sec: 38021.37\n",
      "step: 55 | Loss: 6.250000 | norm: 4.7195 | lr: 3.866667e-04 | dt: 3.40s | tok/sec: 38497.96\n",
      "step: 56 | Loss: 6.312500 | norm: 2.2612 | lr: 3.933333e-04 | dt: 3.32s | tok/sec: 39469.02\n",
      "step: 57 | Loss: 6.968750 | norm: 1.4886 | lr: 4.000000e-04 | dt: 3.33s | tok/sec: 39384.45\n",
      "step: 58 | Loss: 6.437500 | norm: 3.1906 | lr: 4.066667e-04 | dt: 3.36s | tok/sec: 38972.84\n",
      "step: 59 | Loss: 6.343750 | norm: 2.4316 | lr: 4.133333e-04 | dt: 3.42s | tok/sec: 38361.30\n",
      "step: 60 | Loss: 6.375000 | norm: 2.2578 | lr: 4.200000e-04 | dt: 3.33s | tok/sec: 39413.61\n",
      "step: 61 | Loss: 6.156250 | norm: 2.1577 | lr: 4.266667e-04 | dt: 3.32s | tok/sec: 39505.60\n",
      "step: 62 | Loss: 6.000000 | norm: 2.4138 | lr: 4.333333e-04 | dt: 3.43s | tok/sec: 38167.51\n",
      "step: 63 | Loss: 5.875000 | norm: 1.8205 | lr: 4.400000e-04 | dt: 3.45s | tok/sec: 37979.08\n",
      "step: 64 | Loss: 5.937500 | norm: 1.3622 | lr: 4.466667e-04 | dt: 3.45s | tok/sec: 37967.94\n",
      "step: 65 | Loss: 6.281250 | norm: 1.0418 | lr: 4.533333e-04 | dt: 3.39s | tok/sec: 38657.37\n",
      "step: 66 | Loss: 6.437500 | norm: 3.6090 | lr: 4.600000e-04 | dt: 3.32s | tok/sec: 39505.78\n",
      "step: 67 | Loss: 6.468750 | norm: 2.7542 | lr: 4.666667e-04 | dt: 3.34s | tok/sec: 39247.08\n",
      "step: 68 | Loss: 6.250000 | norm: 0.9039 | lr: 4.733333e-04 | dt: 3.32s | tok/sec: 39443.18\n",
      "step: 69 | Loss: 6.000000 | norm: 1.0623 | lr: 4.800000e-04 | dt: 3.44s | tok/sec: 38139.72\n",
      "step: 70 | Loss: 5.843750 | norm: 0.9740 | lr: 4.866667e-04 | dt: 3.45s | tok/sec: 38001.14\n",
      "step: 71 | Loss: 5.906250 | norm: 0.8552 | lr: 4.933333e-04 | dt: 3.40s | tok/sec: 38519.33\n",
      "step: 72 | Loss: 6.656250 | norm: 1.4047 | lr: 5.000000e-04 | dt: 3.32s | tok/sec: 39469.32\n",
      "step: 73 | Loss: 6.250000 | norm: 1.2089 | lr: 5.066667e-04 | dt: 3.32s | tok/sec: 39421.48\n",
      "step: 74 | Loss: 5.875000 | norm: 1.4427 | lr: 5.133333e-04 | dt: 3.42s | tok/sec: 38343.39\n",
      "step: 75 | Loss: 5.656250 | norm: 1.1505 | lr: 5.200000e-04 | dt: 3.46s | tok/sec: 37892.83\n",
      "step: 76 | Loss: 6.593750 | norm: 1.2003 | lr: 5.266667e-04 | dt: 3.45s | tok/sec: 37984.75\n",
      "step: 77 | Loss: 6.156250 | norm: 1.5176 | lr: 5.333333e-04 | dt: 3.45s | tok/sec: 37947.96\n",
      "step: 78 | Loss: 5.562500 | norm: 1.4908 | lr: 5.400000e-04 | dt: 3.42s | tok/sec: 38310.45\n",
      "step: 79 | Loss: 5.593750 | norm: 1.4894 | lr: 5.466667e-04 | dt: 3.38s | tok/sec: 38779.50\n",
      "step: 80 | Loss: 5.937500 | norm: 2.0112 | lr: 5.533333e-04 | dt: 3.49s | tok/sec: 37528.42\n",
      "step: 81 | Loss: 5.937500 | norm: 1.9830 | lr: 5.600000e-04 | dt: 3.51s | tok/sec: 37304.02\n",
      "step: 82 | Loss: 5.812500 | norm: 1.2054 | lr: 5.666667e-04 | dt: 3.40s | tok/sec: 38544.67\n",
      "step: 83 | Loss: 6.187500 | norm: 2.9539 | lr: 5.733333e-04 | dt: 3.42s | tok/sec: 38360.09\n",
      "step: 84 | Loss: 6.187500 | norm: 2.6144 | lr: 5.800000e-04 | dt: 3.42s | tok/sec: 38281.66\n",
      "step: 85 | Loss: 5.875000 | norm: 2.0373 | lr: 5.866667e-04 | dt: 3.45s | tok/sec: 37973.11\n",
      "step: 86 | Loss: 5.968750 | norm: 2.2342 | lr: 5.933333e-04 | dt: 3.39s | tok/sec: 38613.87\n",
      "step: 87 | Loss: 6.125000 | norm: 1.8596 | lr: 6.000000e-04 | dt: 3.41s | tok/sec: 38440.72\n",
      "step: 88 | Loss: 5.750000 | norm: 2.5131 | lr: 6.066667e-04 | dt: 3.46s | tok/sec: 37900.97\n",
      "step: 89 | Loss: 6.031250 | norm: 1.7973 | lr: 6.133333e-04 | dt: 3.46s | tok/sec: 37874.07\n",
      "step: 90 | Loss: 5.906250 | norm: 1.5470 | lr: 6.200000e-04 | dt: 3.35s | tok/sec: 39137.82\n",
      "step: 91 | Loss: 5.593750 | norm: 2.9858 | lr: 6.266667e-04 | dt: 3.30s | tok/sec: 39689.02\n",
      "step: 92 | Loss: 5.781250 | norm: 1.5601 | lr: 6.333333e-04 | dt: 3.35s | tok/sec: 39098.68\n",
      "step: 93 | Loss: 6.187500 | norm: 2.0770 | lr: 6.400000e-04 | dt: 3.33s | tok/sec: 39389.67\n",
      "step: 94 | Loss: 6.125000 | norm: 1.2070 | lr: 6.466667e-04 | dt: 3.39s | tok/sec: 38712.50\n",
      "step: 95 | Loss: 5.781250 | norm: 2.0795 | lr: 6.533333e-04 | dt: 3.25s | tok/sec: 40344.27\n",
      "step: 96 | Loss: 5.843750 | norm: 1.8527 | lr: 6.600000e-04 | dt: 3.23s | tok/sec: 40592.97\n",
      "step: 97 | Loss: 5.750000 | norm: 1.7106 | lr: 6.666667e-04 | dt: 3.22s | tok/sec: 40656.31\n",
      "step: 98 | Loss: 5.875000 | norm: 4.4488 | lr: 6.733333e-04 | dt: 3.23s | tok/sec: 40625.16\n",
      "step: 99 | Loss: 5.343750 | norm: 2.3535 | lr: 6.800000e-04 | dt: 3.23s | tok/sec: 40620.99\n",
      "=== sample 0 ===\n",
      "Every time we say goodbye,\n",
      "I die a little you're a mind it's a love\n",
      "And's's a't want, I've got it's\n",
      "=== sample 1 ===\n",
      "Every time we say goodbye,\n",
      "I die a little one's gonna do me, I'm be a be the way, I'm a gonna can't be\n",
      "=== sample 2 ===\n",
      "Every time we say goodbye,\n",
      "I die a little love a gonna get me)\n",
      "And I'm to do to just know\n",
      "And I'm just want\n",
      "=== sample 3 ===\n",
      "Every time we say goodbye,\n",
      "I die a little way)I know me, baby, baby, baby)\n",
      "Oh I'm me's's's's\n",
      "step: 100 | Loss: 5.687500 | norm: 1.5409 | lr: 6.866667e-04 | dt: 50.45s | tok/sec: 2598.14\n",
      "step: 101 | Loss: 5.718750 | norm: 1.3112 | lr: 6.933333e-04 | dt: 3.43s | tok/sec: 38252.77\n",
      "step: 102 | Loss: 5.531250 | norm: 2.0133 | lr: 7.000000e-04 | dt: 3.46s | tok/sec: 37936.59\n",
      "step: 103 | Loss: 5.562500 | norm: 1.3763 | lr: 7.066667e-04 | dt: 3.44s | tok/sec: 38135.46\n",
      "step: 104 | Loss: 5.843750 | norm: 1.1855 | lr: 7.133333e-04 | dt: 3.51s | tok/sec: 37364.26\n",
      "step: 105 | Loss: 5.562500 | norm: 1.7284 | lr: 7.200000e-04 | dt: 3.47s | tok/sec: 37794.18\n",
      "step: 106 | Loss: 5.906250 | norm: 1.6821 | lr: 7.266667e-04 | dt: 3.39s | tok/sec: 38648.81\n",
      "step: 107 | Loss: 5.687500 | norm: 1.3129 | lr: 7.333333e-04 | dt: 3.39s | tok/sec: 38631.32\n",
      "step: 108 | Loss: 5.718750 | norm: 1.2808 | lr: 7.400000e-04 | dt: 3.36s | tok/sec: 38970.84\n",
      "step: 109 | Loss: 5.375000 | norm: 1.5362 | lr: 7.466667e-04 | dt: 3.35s | tok/sec: 39087.77\n",
      "step: 110 | Loss: 5.531250 | norm: 1.2615 | lr: 7.533333e-04 | dt: 3.42s | tok/sec: 38327.85\n",
      "step: 111 | Loss: 5.781250 | norm: 1.3704 | lr: 7.600000e-04 | dt: 3.41s | tok/sec: 38445.44\n",
      "step: 112 | Loss: 5.718750 | norm: 1.9072 | lr: 7.666667e-04 | dt: 3.34s | tok/sec: 39266.81\n",
      "step: 113 | Loss: 5.750000 | norm: 1.4422 | lr: 7.733333e-04 | dt: 3.34s | tok/sec: 39197.64\n",
      "step: 114 | Loss: 5.281250 | norm: 1.6224 | lr: 7.800000e-04 | dt: 3.31s | tok/sec: 39628.22\n",
      "step: 115 | Loss: 5.281250 | norm: 1.4592 | lr: 7.866667e-04 | dt: 3.26s | tok/sec: 40191.78\n",
      "step: 116 | Loss: 5.343750 | norm: 0.9975 | lr: 7.933333e-04 | dt: 3.27s | tok/sec: 40136.88\n",
      "step: 117 | Loss: 5.781250 | norm: 1.1363 | lr: 8.000000e-04 | dt: 3.27s | tok/sec: 40064.65\n",
      "step: 118 | Loss: 5.625000 | norm: 1.3244 | lr: 8.066667e-04 | dt: 3.27s | tok/sec: 40100.12\n",
      "step: 119 | Loss: 5.625000 | norm: 1.4785 | lr: 8.133333e-04 | dt: 3.27s | tok/sec: 40088.43\n",
      "step: 120 | Loss: 6.031250 | norm: 1.6595 | lr: 8.200000e-04 | dt: 3.45s | tok/sec: 38028.06\n",
      "step: 121 | Loss: 5.718750 | norm: 1.0361 | lr: 8.266667e-04 | dt: 3.48s | tok/sec: 37616.43\n",
      "step: 122 | Loss: 5.031250 | norm: 1.6622 | lr: 8.333333e-04 | dt: 3.49s | tok/sec: 37609.48\n",
      "step: 123 | Loss: 5.562500 | norm: 1.0712 | lr: 8.400000e-04 | dt: 3.43s | tok/sec: 38191.88\n",
      "step: 124 | Loss: 5.625000 | norm: 1.3449 | lr: 8.466667e-04 | dt: 3.39s | tok/sec: 38628.15\n",
      "step: 125 | Loss: 5.250000 | norm: 1.2620 | lr: 8.533333e-04 | dt: 3.38s | tok/sec: 38819.34\n",
      "step: 126 | Loss: 5.343750 | norm: 0.9982 | lr: 8.600000e-04 | dt: 3.42s | tok/sec: 38304.42\n",
      "step: 127 | Loss: 5.250000 | norm: 0.8329 | lr: 8.666667e-04 | dt: 3.43s | tok/sec: 38220.90\n",
      "step: 128 | Loss: 5.187500 | norm: 0.7988 | lr: 8.733333e-04 | dt: 3.43s | tok/sec: 38228.15\n",
      "step: 129 | Loss: 5.406250 | norm: 1.0212 | lr: 8.800000e-04 | dt: 3.44s | tok/sec: 38066.62\n",
      "step: 130 | Loss: 5.843750 | norm: 1.5214 | lr: 8.866667e-04 | dt: 3.33s | tok/sec: 39412.93\n",
      "step: 131 | Loss: 5.781250 | norm: 1.2444 | lr: 8.933333e-04 | dt: 3.42s | tok/sec: 38291.69\n",
      "step: 132 | Loss: 5.281250 | norm: 1.7861 | lr: 9.000000e-04 | dt: 3.34s | tok/sec: 39268.57\n",
      "step: 133 | Loss: 5.000000 | norm: 1.0214 | lr: 9.066667e-04 | dt: 3.35s | tok/sec: 39089.53\n",
      "step: 134 | Loss: 5.312500 | norm: 1.4090 | lr: 9.133333e-04 | dt: 3.36s | tok/sec: 39058.05\n",
      "step: 135 | Loss: 5.406250 | norm: 1.0749 | lr: 9.200000e-04 | dt: 3.36s | tok/sec: 39052.37\n",
      "step: 136 | Loss: 5.343750 | norm: 1.1729 | lr: 9.266667e-04 | dt: 3.36s | tok/sec: 38999.93\n",
      "step: 137 | Loss: 5.343750 | norm: 1.0390 | lr: 9.333333e-04 | dt: 3.34s | tok/sec: 39299.84\n",
      "step: 138 | Loss: 5.281250 | norm: 0.9993 | lr: 9.400000e-04 | dt: 3.33s | tok/sec: 39388.89\n",
      "step: 139 | Loss: 5.125000 | norm: 1.2877 | lr: 9.466667e-04 | dt: 3.33s | tok/sec: 39393.98\n",
      "step: 140 | Loss: 5.250000 | norm: 0.9903 | lr: 9.533333e-04 | dt: 3.32s | tok/sec: 39518.45\n",
      "step: 141 | Loss: 5.093750 | norm: 0.9107 | lr: 9.600000e-04 | dt: 3.32s | tok/sec: 39426.17\n",
      "step: 142 | Loss: 5.156250 | norm: 1.1705 | lr: 9.666667e-04 | dt: 3.33s | tok/sec: 39409.21\n",
      "step: 143 | Loss: 5.375000 | norm: 1.3138 | lr: 9.733333e-04 | dt: 3.33s | tok/sec: 39362.11\n",
      "step: 144 | Loss: 5.468750 | norm: 1.3118 | lr: 9.800000e-04 | dt: 3.37s | tok/sec: 38892.48\n",
      "step: 145 | Loss: 4.937500 | norm: 1.0861 | lr: 9.866667e-04 | dt: 3.44s | tok/sec: 38071.97\n",
      "step: 146 | Loss: 5.437500 | norm: 0.8315 | lr: 9.933333e-04 | dt: 3.43s | tok/sec: 38226.23\n",
      "step: 147 | Loss: 5.000000 | norm: 0.8682 | lr: 1.000000e-03 | dt: 3.35s | tok/sec: 39121.30\n",
      "step: 148 | Loss: 4.906250 | norm: 0.8825 | lr: 1.006667e-03 | dt: 3.25s | tok/sec: 40290.75\n",
      "step: 149 | Loss: 5.156250 | norm: 0.8445 | lr: 1.013333e-03 | dt: 3.27s | tok/sec: 40123.84\n",
      "step: 150 | Loss: 5.250000 | norm: 0.8909 | lr: 1.020000e-03 | dt: 3.29s | tok/sec: 39807.11\n",
      "step: 151 | Loss: 5.593750 | norm: 1.7993 | lr: 1.026667e-03 | dt: 3.28s | tok/sec: 39993.47\n",
      "step: 152 | Loss: 5.406250 | norm: 2.1085 | lr: 1.033333e-03 | dt: 3.31s | tok/sec: 39593.26\n",
      "step: 153 | Loss: 5.281250 | norm: 1.5257 | lr: 1.040000e-03 | dt: 3.34s | tok/sec: 39292.29\n",
      "step: 154 | Loss: 5.437500 | norm: 3.3450 | lr: 1.046667e-03 | dt: 3.26s | tok/sec: 40163.17\n",
      "step: 155 | Loss: 5.062500 | norm: 1.7621 | lr: 1.053333e-03 | dt: 3.35s | tok/sec: 39177.59\n",
      "step: 156 | Loss: 5.468750 | norm: 1.6110 | lr: 1.060000e-03 | dt: 3.32s | tok/sec: 39456.39\n",
      "step: 157 | Loss: 5.281250 | norm: 4.1749 | lr: 1.066667e-03 | dt: 3.27s | tok/sec: 40076.50\n",
      "step: 158 | Loss: 5.093750 | norm: 2.3021 | lr: 1.073333e-03 | dt: 3.22s | tok/sec: 40652.60\n",
      "step: 159 | Loss: 4.812500 | norm: 1.6391 | lr: 1.080000e-03 | dt: 3.20s | tok/sec: 40966.14\n",
      "step: 160 | Loss: 5.375000 | norm: 1.0476 | lr: 1.086667e-03 | dt: 3.20s | tok/sec: 40962.34\n",
      "step: 161 | Loss: 5.062500 | norm: 1.4766 | lr: 1.093333e-03 | dt: 3.20s | tok/sec: 40990.89\n",
      "step: 162 | Loss: 5.406250 | norm: 1.2838 | lr: 1.100000e-03 | dt: 3.32s | tok/sec: 39458.89\n",
      "step: 163 | Loss: 5.250000 | norm: 1.0488 | lr: 1.106667e-03 | dt: 3.38s | tok/sec: 38827.60\n",
      "step: 164 | Loss: 5.000000 | norm: 0.8457 | lr: 1.113333e-03 | dt: 3.33s | tok/sec: 39398.76\n",
      "step: 165 | Loss: 5.218750 | norm: 0.8652 | lr: 1.120000e-03 | dt: 3.24s | tok/sec: 40435.92\n",
      "step: 166 | Loss: 5.156250 | norm: 0.9133 | lr: 1.126667e-03 | dt: 3.27s | tok/sec: 40059.58\n",
      "step: 167 | Loss: 4.812500 | norm: 1.2826 | lr: 1.133333e-03 | dt: 3.26s | tok/sec: 40149.25\n",
      "step: 168 | Loss: 5.343750 | norm: 1.0931 | lr: 1.140000e-03 | dt: 3.29s | tok/sec: 39879.53\n",
      "step: 169 | Loss: 5.437500 | norm: 1.9730 | lr: 1.146667e-03 | dt: 3.31s | tok/sec: 39602.03\n",
      "step: 170 | Loss: 4.906250 | norm: 1.7415 | lr: 1.153333e-03 | dt: 3.29s | tok/sec: 39814.90\n",
      "step: 171 | Loss: 5.000000 | norm: 2.1443 | lr: 1.160000e-03 | dt: 3.23s | tok/sec: 40595.53\n",
      "step: 172 | Loss: 5.062500 | norm: 1.3223 | lr: 1.166667e-03 | dt: 3.29s | tok/sec: 39817.79\n",
      "step: 173 | Loss: 5.062500 | norm: 1.1962 | lr: 1.173333e-03 | dt: 3.23s | tok/sec: 40522.53\n",
      "step: 174 | Loss: 4.968750 | norm: 1.7293 | lr: 1.180000e-03 | dt: 3.27s | tok/sec: 40143.52\n",
      "step: 175 | Loss: 5.218750 | norm: 1.3047 | lr: 1.186667e-03 | dt: 3.26s | tok/sec: 40165.81\n",
      "step: 176 | Loss: 5.093750 | norm: 1.0373 | lr: 1.193333e-03 | dt: 3.23s | tok/sec: 40641.84\n",
      "step: 177 | Loss: 5.000000 | norm: 0.9083 | lr: 1.200000e-03 | dt: 3.20s | tok/sec: 41020.45\n",
      "step: 178 | Loss: 5.187500 | norm: 1.7049 | lr: 1.206667e-03 | dt: 3.22s | tok/sec: 40657.08\n",
      "step: 179 | Loss: 4.906250 | norm: 1.8378 | lr: 1.213333e-03 | dt: 3.25s | tok/sec: 40381.55\n",
      "step: 180 | Loss: 4.843750 | norm: 1.8559 | lr: 1.220000e-03 | dt: 3.20s | tok/sec: 40903.77\n",
      "step: 181 | Loss: 5.062500 | norm: 1.2977 | lr: 1.226667e-03 | dt: 3.19s | tok/sec: 41035.43\n",
      "step: 182 | Loss: 5.031250 | norm: 0.9104 | lr: 1.233333e-03 | dt: 3.21s | tok/sec: 40880.51\n",
      "step: 183 | Loss: 5.218750 | norm: 1.1484 | lr: 1.240000e-03 | dt: 3.21s | tok/sec: 40803.59\n",
      "step: 184 | Loss: 4.968750 | norm: 2.0285 | lr: 1.246667e-03 | dt: 3.19s | tok/sec: 41101.19\n",
      "step: 185 | Loss: 4.906250 | norm: 1.1325 | lr: 1.253333e-03 | dt: 3.21s | tok/sec: 40847.63\n",
      "step: 186 | Loss: 4.968750 | norm: 1.0219 | lr: 1.260000e-03 | dt: 3.25s | tok/sec: 40388.72\n",
      "step: 187 | Loss: 4.781250 | norm: 0.7543 | lr: 1.266667e-03 | dt: 3.24s | tok/sec: 40440.17\n",
      "step: 188 | Loss: 5.250000 | norm: 1.0898 | lr: 1.273333e-03 | dt: 3.28s | tok/sec: 40013.56\n",
      "step: 189 | Loss: 4.812500 | norm: 1.1618 | lr: 1.280000e-03 | dt: 3.32s | tok/sec: 39508.51\n",
      "step: 190 | Loss: 5.125000 | norm: 1.2551 | lr: 1.286667e-03 | dt: 3.34s | tok/sec: 39288.56\n",
      "step: 191 | Loss: 5.000000 | norm: 1.1922 | lr: 1.293333e-03 | dt: 3.32s | tok/sec: 39509.76\n",
      "step: 192 | Loss: 5.281250 | norm: 2.3300 | lr: 1.300000e-03 | dt: 3.21s | tok/sec: 40815.42\n",
      "step: 193 | Loss: 4.906250 | norm: 1.3877 | lr: 1.306667e-03 | dt: 3.21s | tok/sec: 40843.30\n",
      "step: 194 | Loss: 5.000000 | norm: 0.9108 | lr: 1.313333e-03 | dt: 3.21s | tok/sec: 40893.19\n",
      "step: 195 | Loss: 4.750000 | norm: 1.1983 | lr: 1.320000e-03 | dt: 3.28s | tok/sec: 39918.99\n",
      "step: 196 | Loss: 4.625000 | norm: 1.1257 | lr: 1.326667e-03 | dt: 3.30s | tok/sec: 39768.89\n",
      "step: 197 | Loss: 4.812500 | norm: 1.1626 | lr: 1.333333e-03 | dt: 3.21s | tok/sec: 40772.19\n",
      "step: 198 | Loss: 5.093750 | norm: 0.6885 | lr: 1.340000e-03 | dt: 3.36s | tok/sec: 39040.29\n",
      "=== sample 0 ===\n",
      "Every time we say goodbye,\n",
      "I die a little time\n",
      "I'm not not like me, it's all\n",
      "I'm so much\n",
      "I'm gonna\n",
      "=== sample 1 ===\n",
      "Every time we say goodbye,\n",
      "I die a little thing\n",
      "We're gonna get the way\n",
      "But if I'd come through the only know how I'm\n",
      "=== sample 2 ===\n",
      "Every time we say goodbye,\n",
      "I die a little\n",
      "You wanna say\n",
      "I'ma I wanna go,\n",
      "But it\n",
      "You say I'm gonna\n",
      "=== sample 3 ===\n",
      "Every time we say goodbye,\n",
      "I die a little thing\n",
      "If we're all the way\n",
      "We don't have a way?\n",
      "(The people're\n",
      "step: 199 | Loss: 5.125000 | norm: 1.0684 | lr: 1.346667e-03 | dt: 6.83s | tok/sec: 19202.64\n"
     ]
    }
   ],
   "source": [
    "from llm_trainer import LLMTrainer\n",
    "\n",
    "trainer = LLMTrainer(model=model)\n",
    "trainer.train(BATCH_SIZE=512, generate_each_n_steps=100, max_steps=200, prompt=\"Every time we say goodbye,\\nI die a little\")"
   ]
  },
  {
   "cell_type": "code",
   "execution_count": 11,
   "metadata": {},
   "outputs": [
    {
     "data": {
      "image/png": "[encoded data removed]",
      "text/plain": [
       "<Figure size 640x480 with 1 Axes>"
      ]
     },
     "metadata": {},
     "output_type": "display_data"
    }
   ],
   "source": [
    "import pandas as pd\n",
    "import matplotlib.pyplot as plt\n",
    "\n",
    "# DISPLAY LOSS\n",
    "data = pd.read_csv(\"logs_training.csv\")\n",
    "\n",
    "window_size = 10  # Adjust for more or less smoothing\n",
    "smoothed_loss = data[\"Loss\"].rolling(window=window_size).mean()\n",
    "\n",
    "plt.plot(data[\"Step\"], smoothed_loss, label=\"Smoothed Loss\", color=\"pink\")\n",
    "plt.plot(data[\"Step\"], data[\"Loss\"], alpha=0.5, label=\"Original Loss\", color=\"gray\")\n",
    "\n",
    "plt.axhline(y=6, color='r', linestyle='--', alpha=0.6)\n",
    "plt.axhline(y=5, color='gray', linestyle='--', alpha=0.6)\n",
    "plt.axhline(y=4, color='y', linestyle='--', alpha=0.6)\n",
    "plt.axhline(y=3, color='g', linestyle='--', alpha=0.6)\n",
    "\n",
    "plt.xlabel(\"Step\")\n",
    "plt.ylabel(\"Loss\")\n",
    "plt.legend()\n",
    "plt.show()"
   ]
  }
 ],
 "metadata": {
  "kernelspec": {
   "display_name": "xlstm",
   "language": "python",
   "name": "python3"
  },
  "language_info": {
   "codemirror_mode": {
    "name": "ipython",
    "version": 3
   },
   "file_extension": ".py",
   "mimetype": "text/x-python",
   "name": "python",
   "nbconvert_exporter": "python",
   "pygments_lexer": "ipython3",
   "version": "3.11.11"
  }
 },
 "nbformat": 4,
 "nbformat_minor": 2
}
